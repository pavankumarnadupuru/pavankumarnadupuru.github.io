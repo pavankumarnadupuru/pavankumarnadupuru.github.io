{
 "cells": [
  {
   "cell_type": "code",
   "execution_count": 1,
   "metadata": {},
   "outputs": [],
   "source": [
    "import struct\n",
    "import numpy as np\n",
    "from matplotlib import pyplot as plt\n",
    "\n",
    "import tensorflow as tf\n",
    "from tensorflow import keras"
   ]
  },
  {
   "cell_type": "code",
   "execution_count": 2,
   "metadata": {},
   "outputs": [],
   "source": [
    "filename={}\n",
    "filename['train_images']='/home/pavan/Desktop/_telugu/train-images-idx3-ubyte'\n",
    "filename['train_labels']='/home/pavan/Desktop/_telugu/train-labels-idx1-ubyte'\n",
    "filename['test_images']='/home/pavan/Desktop/_telugu/t10k-images-idx3-ubyte'\n",
    "filename['test_labels']='/home/pavan/Desktop/_telugu/t10k-labels-idx1-ubyte'"
   ]
  },
  {
   "cell_type": "code",
   "execution_count": 3,
   "metadata": {},
   "outputs": [
    {
     "name": "stdout",
     "output_type": "stream",
     "text": [
      "The tensorflow version is :  1.14.0\n"
     ]
    }
   ],
   "source": [
    "with open(filename['train_images'], 'rb') as f:\n",
    "    zero, data_type, dims = struct.unpack('>HBB', f.read(4))\n",
    "    shape = tuple(struct.unpack('>I', f.read(4))[0] for d in range(dims))\n",
    "    train_images=np.frombuffer(f.read(), dtype=np.uint8).reshape(shape)\n",
    "\n",
    "with open(filename['train_labels'], 'rb') as f:\n",
    "    zero, data_type, dims = struct.unpack('>HBB', f.read(4))\n",
    "    shape = tuple(struct.unpack('>I', f.read(4))[0] for d in range(dims))\n",
    "    train_labels=np.frombuffer(f.read(), dtype=np.uint8).reshape(shape)\n",
    "\n",
    "with open(filename['test_images'], 'rb') as f:\n",
    "    zero, data_type, dims = struct.unpack('>HBB', f.read(4))\n",
    "    shape = tuple(struct.unpack('>I', f.read(4))[0] for d in range(dims))\n",
    "    test_images=np.frombuffer(f.read(), dtype=np.uint8).reshape(shape)\n",
    "\n",
    "with open(filename['test_labels'], 'rb') as f:\n",
    "    zero, data_type, dims = struct.unpack('>HBB', f.read(4))\n",
    "    shape = tuple(struct.unpack('>I', f.read(4))[0] for d in range(dims))\n",
    "    test_labels=np.frombuffer(f.read(), dtype=np.uint8).reshape(shape)\n",
    "\n",
    "print(f'The tensorflow version is : ',tf.__version__)"
   ]
  },
  {
   "cell_type": "code",
   "execution_count": 4,
   "metadata": {},
   "outputs": [
    {
     "name": "stdout",
     "output_type": "stream",
     "text": [
      "(5281, 50, 50)\n",
      "(5281,)\n"
     ]
    }
   ],
   "source": [
    "print(train_images.shape)\n",
    "print(train_labels.shape)"
   ]
  },
  {
   "cell_type": "code",
   "execution_count": 5,
   "metadata": {},
   "outputs": [],
   "source": [
    "class_names=[]\n",
    "for i in range(16):\n",
    "    class_names.append(str(i))"
   ]
  },
  {
   "cell_type": "code",
   "execution_count": 6,
   "metadata": {
    "scrolled": true
   },
   "outputs": [
    {
     "name": "stdout",
     "output_type": "stream",
     "text": [
      "(1591, 50, 50)\n",
      "(1591,)\n"
     ]
    }
   ],
   "source": [
    "print(test_images.shape)\n",
    "print(test_labels.shape)"
   ]
  },
  {
   "cell_type": "code",
   "execution_count": 9,
   "metadata": {},
   "outputs": [
    {
     "data": {
      "image/png": "[encoded data removed]",
      "text/plain": [
       "<Figure size 432x288 with 2 Axes>"
      ]
     },
     "metadata": {
      "needs_background": "light"
     },
     "output_type": "display_data"
    }
   ],
   "source": [
    "plt.figure()\n",
    "plt.imshow(train_images[10])\n",
    "plt.colorbar()\n",
    "plt.grid(False)\n",
    "plt.show()"
   ]
  },
  {
   "cell_type": "code",
   "execution_count": 11,
   "metadata": {},
   "outputs": [],
   "source": [
    "train_images = train_images/255.0\n",
    "test_images = test_images/255.0"
   ]
  },
  {
   "cell_type": "code",
   "execution_count": 12,
   "metadata": {},
   "outputs": [
    {
     "data": {
      "image/png": "[encoded data removed]",
      "text/plain": [
       "<Figure size 720x720 with 25 Axes>"
      ]
     },
     "metadata": {},
     "output_type": "display_data"
    }
   ],
   "source": [
    "plt.figure(figsize=(10,10))\n",
    "for i in range(25):\n",
    "    plt.subplot(5,5,i+1)\n",
    "    plt.xticks([])\n",
    "    plt.yticks([])\n",
    "    plt.grid(False)\n",
    "    plt.imshow(train_images[i], cmap=plt.cm.binary)\n",
    "    plt.xlabel(class_names[train_labels[i]])\n",
    "plt.show()"
   ]
  },
  {
   "cell_type": "code",
   "execution_count": 13,
   "metadata": {},
   "outputs": [
    {
     "name": "stderr",
     "output_type": "stream",
     "text": [
      "WARNING: Logging before flag parsing goes to stderr.\n",
      "W0830 14:25:46.880934 140008716822336 deprecation.py:506] From /home/pavan/anaconda3/envs/tflow/lib/python3.7/site-packages/tensorflow/python/ops/init_ops.py:1251: calling VarianceScaling.__init__ (from tensorflow.python.ops.init_ops) with dtype is deprecated and will be removed in a future version.\n",
      "Instructions for updating:\n",
      "Call initializer instance with the dtype argument instead of passing it to the constructor\n"
     ]
    }
   ],
   "source": [
    "model = keras.Sequential([\n",
    "    keras.layers.Flatten(input_shape=(50, 50)),\n",
    "#     keras.layers.Dense(1024, activation=tf.nn.relu),\n",
    "#     keras.layers.Dense(210, activation=tf.nn.relu),\n",
    "#     keras.layers.Dense(128, activation=tf.nn.relu),\n",
    "    keras.layers.Dense(16, activation=tf.nn.softmax)\n",
    "])"
   ]
  },
  {
   "cell_type": "code",
   "execution_count": 14,
   "metadata": {},
   "outputs": [],
   "source": [
    "model.compile(optimizer='adam',\n",
    "              loss='sparse_categorical_crossentropy',\n",
    "              metrics=['accuracy'])"
   ]
  },
  {
   "cell_type": "code",
   "execution_count": 21,
   "metadata": {
    "scrolled": true
   },
   "outputs": [
    {
     "name": "stdout",
     "output_type": "stream",
     "text": [
      "Epoch 1/10\n",
      "5281/5281 [==============================] - 0s 65us/sample - loss: 0.3356 - acc: 0.9099\n",
      "Epoch 2/10\n",
      "5281/5281 [==============================] - 0s 58us/sample - loss: 0.3273 - acc: 0.9178\n",
      "Epoch 3/10\n",
      "5281/5281 [==============================] - 0s 67us/sample - loss: 0.3374 - acc: 0.9165\n",
      "Epoch 4/10\n",
      "5281/5281 [==============================] - 1s 141us/sample - loss: 0.3277 - acc: 0.9176\n",
      "Epoch 5/10\n",
      "5281/5281 [==============================] - 0s 60us/sample - loss: 0.3365 - acc: 0.9095\n",
      "Epoch 6/10\n",
      "5281/5281 [==============================] - 0s 59us/sample - loss: 0.3121 - acc: 0.9231\n",
      "Epoch 7/10\n",
      "5281/5281 [==============================] - 0s 63us/sample - loss: 0.3338 - acc: 0.9118\n",
      "Epoch 8/10\n",
      "5281/5281 [==============================] - 0s 63us/sample - loss: 0.3518 - acc: 0.9042\n",
      "Epoch 9/10\n",
      "5281/5281 [==============================] - 0s 76us/sample - loss: 0.3234 - acc: 0.9108\n",
      "Epoch 10/10\n",
      "5281/5281 [==============================] - 0s 75us/sample - loss: 0.3154 - acc: 0.91590s - loss: 0.3303 - acc: \n"
     ]
    },
    {
     "data": {
      "text/plain": [
       "<tensorflow.python.keras.callbacks.History at 0x7f56098065d0>"
      ]
     },
     "execution_count": 21,
     "metadata": {},
     "output_type": "execute_result"
    }
   ],
   "source": [
    "model.fit(train_images, train_labels, epochs=10)"
   ]
  },
  {
   "cell_type": "code",
   "execution_count": 22,
   "metadata": {},
   "outputs": [
    {
     "name": "stdout",
     "output_type": "stream",
     "text": [
      "1591/1591 [==============================] - 0s 60us/sample - loss: 0.7139 - acc: 0.7674\n",
      "Test accuracy: 0.76744187\n"
     ]
    }
   ],
   "source": [
    "test_loss, test_acc = model.evaluate(test_images, test_labels)\n",
    "\n",
    "print('Test accuracy:', test_acc)"
   ]
  },
  {
   "cell_type": "code",
   "execution_count": 23,
   "metadata": {},
   "outputs": [],
   "source": [
    "predictions=model.predict(test_images)"
   ]
  },
  {
   "cell_type": "code",
   "execution_count": 24,
   "metadata": {},
   "outputs": [
    {
     "data": {
      "text/plain": [
       "array([9.9663430e-01, 1.9031585e-03, 1.2277242e-05, 1.4210353e-08,\n",
       "       1.5337919e-07, 2.6593580e-05, 7.0054392e-07, 7.7476841e-05,\n",
       "       2.4367836e-08, 5.3829945e-07, 1.0985314e-07, 9.2882168e-05,\n",
       "       1.2190746e-06, 1.3255709e-07, 1.2436514e-03, 6.7367664e-06],\n",
       "      dtype=float32)"
      ]
     },
     "execution_count": 24,
     "metadata": {},
     "output_type": "execute_result"
    }
   ],
   "source": [
    "predictions[0]"
   ]
  },
  {
   "cell_type": "code",
   "execution_count": 25,
   "metadata": {},
   "outputs": [
    {
     "name": "stdout",
     "output_type": "stream",
     "text": [
      "0\t5\t9\t7\t13\t12\t8\t12\t15\t10\t3\t7\t11\t8\t"
     ]
    }
   ],
   "source": [
    "for i in range(14):\n",
    "    print(np.argmax(predictions[i]),end='\\t')"
   ]
  },
  {
   "cell_type": "code",
   "execution_count": 26,
   "metadata": {},
   "outputs": [
    {
     "name": "stdout",
     "output_type": "stream",
     "text": [
      "0\t5\t9\t7\t13\t12\t8\t12\t15\t10\t2\t6\t11\t8\t"
     ]
    }
   ],
   "source": [
    "for i in range(14):\n",
    "    print(test_labels[i],end='\\t')"
   ]
  },
  {
   "cell_type": "code",
   "execution_count": null,
   "metadata": {},
   "outputs": [],
   "source": []
  }
 ],
 "metadata": {
  "kernelspec": {
   "display_name": "Python 3",
   "language": "python",
   "name": "python3"
  },
  "language_info": {
   "codemirror_mode": {
    "name": "ipython",
    "version": 3
   },
   "file_extension": ".py",
   "mimetype": "text/x-python",
   "name": "python",
   "nbconvert_exporter": "python",
   "pygments_lexer": "ipython3",
   "version": "3.7.4"
  }
 },
 "nbformat": 4,
 "nbformat_minor": 2
}
