{
 "cells": [
  {
   "cell_type": "code",
   "execution_count": 2,
   "metadata": {
    "scrolled": true
   },
   "outputs": [],
   "source": [
    "import struct\n",
    "import numpy as np\n",
    "import pandas as pd\n",
    "from xgboost import XGBClassifier\n",
    "import tensorflow as tf\n",
    "from matplotlib import pyplot as plt\n",
    "from tensorflow import keras"
   ]
  },
  {
   "cell_type": "code",
   "execution_count": 3,
   "metadata": {},
   "outputs": [],
   "source": [
    "filename={}\n",
    "filename['train_images']='/home/pavan/Desktop/_telugu/train-images-idx3-ubyte'\n",
    "filename['train_labels']='/home/pavan/Desktop/_telugu/train-labels-idx1-ubyte'\n",
    "filename['test_images']='/home/pavan/Desktop/_telugu/t10k-images-idx3-ubyte'\n",
    "filename['test_labels']='/home/pavan/Desktop/_telugu/t10k-labels-idx1-ubyte'"
   ]
  },
  {
   "cell_type": "code",
   "execution_count": 4,
   "metadata": {},
   "outputs": [
    {
     "name": "stdout",
     "output_type": "stream",
     "text": [
      "The tensorflow version is :  2.0.0\n"
     ]
    }
   ],
   "source": [
    "with open(filename['train_images'], 'rb') as f:\n",
    "    zero, data_type, dims = struct.unpack('>HBB', f.read(4))\n",
    "    shape = tuple(struct.unpack('>I', f.read(4))[0] for d in range(dims))\n",
    "    train_images=np.frombuffer(f.read(), dtype=np.uint8).reshape(shape)\n",
    "\n",
    "with open(filename['train_labels'], 'rb') as f:\n",
    "    zero, data_type, dims = struct.unpack('>HBB', f.read(4))\n",
    "    shape = tuple(struct.unpack('>I', f.read(4))[0] for d in range(dims))\n",
    "    train_labels=np.frombuffer(f.read(), dtype=np.uint8).reshape(shape)\n",
    "\n",
    "with open(filename['test_images'], 'rb') as f:\n",
    "    zero, data_type, dims = struct.unpack('>HBB', f.read(4))\n",
    "    shape = tuple(struct.unpack('>I', f.read(4))[0] for d in range(dims))\n",
    "    test_images=np.frombuffer(f.read(), dtype=np.uint8).reshape(shape)\n",
    "\n",
    "with open(filename['test_labels'], 'rb') as f:\n",
    "    zero, data_type, dims = struct.unpack('>HBB', f.read(4))\n",
    "    shape = tuple(struct.unpack('>I', f.read(4))[0] for d in range(dims))\n",
    "    test_labels=np.frombuffer(f.read(), dtype=np.uint8).reshape(shape)\n",
    "\n",
    "print(f'The tensorflow version is : ',tf.__version__)"
   ]
  },
  {
   "cell_type": "code",
   "execution_count": 5,
   "metadata": {},
   "outputs": [],
   "source": [
    "model=XGBClassifier()"
   ]
  },
  {
   "cell_type": "code",
   "execution_count": 6,
   "metadata": {},
   "outputs": [],
   "source": [
    "x,t=[],[]\n",
    "for i in train_images:\n",
    "    for j in i:\n",
    "        for k in j:\n",
    "            t.append(k)\n",
    "    x.append(t)\n",
    "    t=[]"
   ]
  },
  {
   "cell_type": "code",
   "execution_count": 7,
   "metadata": {},
   "outputs": [],
   "source": [
    "y,t=[],[]\n",
    "for i in test_images:\n",
    "    for j in i:\n",
    "        for k in j:\n",
    "            t.append(k)\n",
    "    y.append(t)\n",
    "    t=[]"
   ]
  },
  {
   "cell_type": "code",
   "execution_count": 8,
   "metadata": {},
   "outputs": [],
   "source": [
    "x=np.array(x)"
   ]
  },
  {
   "cell_type": "code",
   "execution_count": 9,
   "metadata": {
    "scrolled": true
   },
   "outputs": [
    {
     "data": {
      "text/plain": [
       "XGBClassifier(base_score=0.5, booster='gbtree', colsample_bylevel=1,\n",
       "       colsample_bytree=1, gamma=0, learning_rate=0.1, max_delta_step=0,\n",
       "       max_depth=3, min_child_weight=1, missing=None, n_estimators=100,\n",
       "       n_jobs=1, nthread=None, objective='multi:softprob', random_state=0,\n",
       "       reg_alpha=0, reg_lambda=1, scale_pos_weight=1, seed=None,\n",
       "       silent=True, subsample=1)"
      ]
     },
     "execution_count": 9,
     "metadata": {},
     "output_type": "execute_result"
    }
   ],
   "source": [
    "model.fit(x,train_labels)"
   ]
  },
  {
   "cell_type": "code",
   "execution_count": 10,
   "metadata": {},
   "outputs": [],
   "source": [
    "predictions=model.predict(y)"
   ]
  },
  {
   "cell_type": "code",
   "execution_count": 11,
   "metadata": {},
   "outputs": [
    {
     "name": "stdout",
     "output_type": "stream",
     "text": [
      "0\t5\t10\t7\t12\t12\t8\t12\t15\t5\t4\t6\t11\t8\t"
     ]
    }
   ],
   "source": [
    "for i in range(14):\n",
    "    print(predictions[i],end='\\t')"
   ]
  },
  {
   "cell_type": "code",
   "execution_count": 12,
   "metadata": {},
   "outputs": [
    {
     "name": "stdout",
     "output_type": "stream",
     "text": [
      "0\t5\t9\t7\t13\t12\t8\t12\t15\t10\t2\t6\t11\t8\t"
     ]
    }
   ],
   "source": [
    "for i in range(14):\n",
    "    print(test_labels[i],end='\\t')"
   ]
  },
  {
   "cell_type": "code",
   "execution_count": 14,
   "metadata": {},
   "outputs": [
    {
     "name": "stdout",
     "output_type": "stream",
     "text": [
      "The number of correct predictions out of 1591 are 1120 and wrong are 471\n"
     ]
    }
   ],
   "source": [
    "match,non=0,0\n",
    "for i,j in zip(predictions,test_labels):\n",
    "    if(i==j):\n",
    "        match+=1\n",
    "    else:\n",
    "        non+=1\n",
    "print(f'The number of correct predictions out of {match+non} are {match} and wrong are {non}')"
   ]
  },
  {
   "cell_type": "code",
   "execution_count": 15,
   "metadata": {},
   "outputs": [
    {
     "name": "stdout",
     "output_type": "stream",
     "text": [
      "It is accurate upto 70.39597737272156%\n"
     ]
    }
   ],
   "source": [
    "print(f'It is accurate upto {1120*100/1591}%' )"
   ]
  },
  {
   "cell_type": "code",
   "execution_count": 18,
   "metadata": {},
   "outputs": [
    {
     "data": {
      "text/plain": [
       "array([255, 255, 255, 255, 255, 255, 255, 255, 255, 255, 255, 255, 255,\n",
       "       255, 255, 255, 255, 255, 255, 255, 255, 255, 255, 255, 255, 255,\n",
       "       255, 255, 255, 255, 255, 255, 255, 255, 255, 255, 255, 255, 255,\n",
       "       255, 255, 255, 255, 255, 255, 255, 255, 255, 255, 255], dtype=uint8)"
      ]
     },
     "execution_count": 18,
     "metadata": {},
     "output_type": "execute_result"
    }
   ],
   "source": [
    "train_images[0][0]"
   ]
  },
  {
   "cell_type": "code",
   "execution_count": null,
   "metadata": {},
   "outputs": [],
   "source": []
  }
 ],
 "metadata": {
  "kernelspec": {
   "display_name": "Python 3",
   "language": "python",
   "name": "python3"
  },
  "language_info": {
   "codemirror_mode": {
    "name": "ipython",
    "version": 3
   },
   "file_extension": ".py",
   "mimetype": "text/x-python",
   "name": "python",
   "nbconvert_exporter": "python",
   "pygments_lexer": "ipython3",
   "version": "3.7.3"
  }
 },
 "nbformat": 4,
 "nbformat_minor": 2
}
